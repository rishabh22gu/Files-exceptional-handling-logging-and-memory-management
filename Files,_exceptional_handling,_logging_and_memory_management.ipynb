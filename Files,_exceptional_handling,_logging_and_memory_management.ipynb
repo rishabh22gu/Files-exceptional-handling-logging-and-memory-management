{
  "nbformat": 4,
  "nbformat_minor": 0,
  "metadata": {
    "colab": {
      "provenance": []
    },
    "kernelspec": {
      "name": "python3",
      "display_name": "Python 3"
    },
    "language_info": {
      "name": "python"
    }
  },
  "cells": [
    {
      "cell_type": "markdown",
      "source": [
        "What is the difference between interpreted and compiled languages\n",
        "\n",
        "Difference between Interpreted and Compiled Languages:\n",
        "\n",
        "Interpreted languages execute code line by line through an interpreter, allowing immediate execution but slower performance (e.g., Python, JavaScript).\n",
        "Compiled languages translate the entire code into machine code before execution, offering faster performance but requiring a compilation step (e.g., C, C++).\n",
        "\n",
        "\n",
        "\n",
        "What is exception handling in Python\n",
        "\n",
        "Exception Handling in Python:\n",
        "\n",
        "Exception handling in Python involves managing errors during program execution using try, except, else, and finally blocks to ensure the program runs smoothly.\n",
        "\n",
        "\n",
        "\n",
        "What is the purpose of the finally block in exception handling\n",
        "\n",
        "Purpose of the finally Block:\n",
        "\n",
        "The finally block is used to execute cleanup code or release resources regardless of whether an exception was raised or not.\n",
        "\n",
        "\n",
        "What is logging in Python\n",
        "\n",
        "Logging in Python:\n",
        "\n",
        "The logging module provides a way to track events during program execution, useful for debugging and monitoring.\n",
        "\n",
        "\n",
        "What is the significance of the __del__ method in Python\n",
        "\n",
        "Significance of __del__ Method:\n",
        "\n",
        "The __del__ method is a destructor in Python, called when an object is garbage collected to clean up resources.\n",
        "\n",
        "\n",
        "What is the difference between import and from ... import in Python\n",
        "\n",
        "Difference Between import and from ... import:\n",
        "\n",
        "import module imports the entire module.\n",
        "from module import name imports specific attributes or functions from a module.\n",
        "\n",
        "How can you handle multiple exceptions in Python\n",
        "\n",
        "Handling Multiple Exceptions:\n",
        "\n",
        "You can handle multiple exceptions using multiple except blocks or a single except block with a tuple of exceptions.\n",
        "\n",
        "\n",
        "\n",
        "What is the purpose of the with statement when handling files in Python\n",
        "\n",
        "Purpose of the with Statement in File Handling:\n",
        "\n",
        "The with statement ensures proper file handling by automatically closing the file after the block's execution.\n",
        "\n",
        "\n",
        "\n",
        "\n",
        "\n",
        "\n",
        "What is the difference between multithreading and multiprocessing\n",
        "\n",
        "Difference Between Multithreading and Multiprocessing:\n",
        "\n",
        "Multithreading shares the same memory space but may face performance issues due to the Global Interpreter Lock (GIL).\n",
        "Multiprocessing uses separate memory space and avoids GIL, better for CPU-bound tasks.\n",
        "\n",
        "\n",
        "\n",
        "\n",
        "\n",
        "\n",
        "\n",
        "\n",
        "\n",
        "What are the advantages of using logging in a program\n",
        "Advantages of Logging:\n",
        "\n",
        "Helps in debugging and monitoring.\n",
        "Maintains a record of program execution.\n",
        "Reduces dependency on print statements.\n",
        "\n",
        "\n",
        "\n",
        "\n",
        "\n",
        "\n",
        "What is memory management in Python\n",
        "\n",
        "Common Logging Levels:\n",
        "\n",
        "DEBUG, INFO, WARNING, ERROR, CRITICAL.\n",
        "\n",
        "\n",
        "\n",
        "\n",
        "\n",
        "\n",
        "\n",
        "\n",
        "\n",
        "What are the basic steps involved in exception handling in Python\n",
        "\n",
        "Logging Module's Purpose:\n",
        "\n",
        "To provide a flexible framework for emitting log messages.\n",
        "\n",
        "\n",
        "\n",
        "\n",
        "\n",
        "\n",
        "\n",
        "\n",
        "\n",
        "\n",
        "Why is memory management important in Python\n",
        "\n",
        "\n",
        "Memory Management in Python:\n",
        "\n",
        "Python uses automatic memory management with garbage collection.\n",
        "\n",
        "\n",
        "\n",
        "\n",
        "\n",
        "\n",
        "\n",
        "\n",
        "What is the role of try and except in exception handling\n",
        "\n",
        "Importance of Memory Management:\n",
        "\n",
        "Ensures efficient memory use and prevents memory leaks.\n",
        "\n",
        "\n",
        "\n",
        "\n",
        "\n",
        "\n",
        "\n",
        "\n",
        "\n",
        "How does Python's garbage collection system work\n",
        "\n",
        "How Garbage Collection Works:\n",
        "\n",
        "Python’s garbage collector identifies and frees up memory used by unreferenced objects.\n",
        "\n",
        "\n",
        "\n",
        "\n",
        "\n",
        "\n",
        "\n",
        "\n",
        "\n",
        "What is the purpose of the else block in exception handling\n",
        "\n",
        "Circular references and memory leaks due to improper resource handling.\n",
        "\n",
        "\n",
        "\n",
        "\n",
        "\n",
        "\n",
        "\n",
        "\n",
        "\n",
        "What are the common logging levels in Python\n",
        "Steps in Exception Handling:\n",
        "\n",
        "Use try to wrap code.\n",
        "Handle errors with except.\n",
        "Execute cleanup code with finally.\n",
        "Optionally use else for code that runs only if no exception occurs.\n",
        "\n",
        "\n",
        "\n",
        "\n",
        "\n",
        "\n",
        "\n",
        "\n",
        "\n",
        "\n",
        "What is the difference between os.fork() and multiprocessing in Python\n",
        "Role of try and except:\n",
        "\n",
        "try contains code that may raise exceptions.\n",
        "except handles the raised exceptions.\n",
        "\n",
        "\n",
        "\n",
        "\n",
        "\n",
        "\n",
        "\n",
        "\n",
        "\n",
        "\n",
        "\n",
        "\n",
        " What is the importance of closing a file in Python\n",
        "Purpose of the else Block:\n",
        "\n",
        "Executes code if no exceptions are raised in the try block.\n",
        "\n",
        "\n",
        "\n",
        "\n",
        "\n",
        "\n",
        "\n",
        "\n",
        "\n",
        "What is the difference between file.read() and file.readline() in Python\n",
        "Raising Exceptions Manually:\n",
        "\n",
        "Use the raise statement with the desired exception class (e.g., raise ValueError(\"Invalid input\")).\n",
        "\n",
        "\n",
        "\n",
        "\n",
        "\n",
        "\n",
        "\n",
        "\n",
        "\n",
        "\n",
        "\n",
        "What is the logging module in Python used for\n",
        "\n",
        "Importance of Closing a File:\n",
        "\n",
        "Prevents resource leaks and ensures all data is written to the file.\n",
        "\n",
        "\n",
        "\n",
        "\n",
        "\n",
        "\n",
        "\n",
        "\n",
        "\n",
        "\n",
        "\n",
        "What is the os module in Python used for in file handling\n",
        "\n",
        "Difference Between file.read() and file.readline():\n",
        "\n",
        "file.read() reads the entire file or a specified number of characters.\n",
        "file.readline() reads a single line from the file.\n",
        "\n",
        "\n",
        "\n",
        "\n",
        "\n",
        "\n",
        "\n",
        "\n",
        "\n",
        "What are the challenges associated with memory management in Python\n",
        "\n",
        "OS Module in File Handling:\n",
        "\n",
        "Provides functions for file and directory manipulation, such as creating, deleting, or navigating files and directories.\n",
        "\n",
        "\n",
        "\n",
        "\n",
        "\n",
        "\n",
        "\n",
        "\n",
        "How do you raise an exception manually in Python\n",
        "\n",
        "Difference Between os.fork() and Multiprocessing:\n",
        "\n",
        "os.fork() creates a child process by duplicating the parent process (available on Unix-like systems).\n",
        "The multiprocessing module provides a platform-independent way to create and manage processes.\n",
        "\n",
        "\n",
        "\n",
        "\n",
        "\n",
        "\n",
        "\n",
        "Why is it important to use multithreading in certain applications?\n",
        "\n",
        "Improving Application Responsiveness\n",
        "Multithreading allows a program to remain responsive while performing time-consuming tasks in the background. For instance, in a GUI application, the main thread can handle user inputs while another thread processes data.\n",
        "2. Better Utilization of I/O Operations\n",
        "Applications with tasks that spend significant time waiting for I/O operations (e.g., reading/writing to files, network requests) benefit from multithreading. Threads waiting for I/O can yield control to other threads, keeping the application active and efficient.\n",
        "3. Concurrent Execution of Tasks\n",
        "Multithreading enables the concurrent execution of multiple tasks, which is essential for applications that need to perform independent tasks simultaneously (e.g., downloading multiple files\n",
        "\n",
        "\n",
        "\n",
        "\n",
        "\n"
      ],
      "metadata": {
        "id": "Hv09DgMS8Hmx"
      }
    },
    {
      "cell_type": "markdown",
      "source": [
        "**Practical** **Questions**"
      ],
      "metadata": {
        "id": "cJGFJFN58Q-f"
      }
    },
    {
      "cell_type": "markdown",
      "source": [
        "QUESTION -1"
      ],
      "metadata": {
        "id": "bbU4yakrDgnw"
      }
    },
    {
      "cell_type": "code",
      "source": [
        "\n",
        "\n",
        "with open(\"example.txt\", \"w\") as file:\n",
        "    file.write(\"Hello, world!\")\n"
      ],
      "metadata": {
        "id": "382-tT62DOdQ"
      },
      "execution_count": 3,
      "outputs": []
    },
    {
      "cell_type": "markdown",
      "source": [
        "QUESTION -2"
      ],
      "metadata": {
        "id": "d5V0O3ckDk3D"
      }
    },
    {
      "cell_type": "code",
      "source": [
        "with open(\"example.txt\", \"r\") as file:\n",
        "    for line in file:\n",
        "        print(line.strip())\n"
      ],
      "metadata": {
        "colab": {
          "base_uri": "https://localhost:8080/"
        },
        "id": "okTqPW1RDoTq",
        "outputId": "27297caa-f71d-4a46-bc5d-72c31d47b145"
      },
      "execution_count": 4,
      "outputs": [
        {
          "output_type": "stream",
          "name": "stdout",
          "text": [
            "Hello, world!\n"
          ]
        }
      ]
    },
    {
      "cell_type": "markdown",
      "source": [
        "QUESTION -3"
      ],
      "metadata": {
        "id": "J06nkQ6dDtfh"
      }
    },
    {
      "cell_type": "code",
      "source": [
        "try:\n",
        "    with open(\"nonexistent_file.txt\", \"r\") as file:\n",
        "        print(file.read())\n",
        "except FileNotFoundError:\n",
        "    print(\"The file does not exist.\")\n"
      ],
      "metadata": {
        "colab": {
          "base_uri": "https://localhost:8080/"
        },
        "id": "Zzm-dgPADxdY",
        "outputId": "958da3f4-7cfd-4027-cd44-e01b3a8180af"
      },
      "execution_count": 5,
      "outputs": [
        {
          "output_type": "stream",
          "name": "stdout",
          "text": [
            "The file does not exist.\n"
          ]
        }
      ]
    },
    {
      "cell_type": "markdown",
      "source": [
        "QUESTION -4"
      ],
      "metadata": {
        "id": "TBbc8d45D1cj"
      }
    },
    {
      "cell_type": "code",
      "source": [
        "with open(\"source.txt\", \"r\") as source_file, open(\"destination.txt\", \"w\") as dest_file:\n",
        "    for line in source_file:\n",
        "        dest_file.write(line)\n"
      ],
      "metadata": {
        "colab": {
          "base_uri": "https://localhost:8080/",
          "height": 176
        },
        "id": "bvOhkA2FEPDj",
        "outputId": "06891764-a2b5-42f3-ac87-37e52b1baa34"
      },
      "execution_count": 7,
      "outputs": [
        {
          "output_type": "error",
          "ename": "FileNotFoundError",
          "evalue": "[Errno 2] No such file or directory: 'source.txt'",
          "traceback": [
            "\u001b[0;31m---------------------------------------------------------------------------\u001b[0m",
            "\u001b[0;31mFileNotFoundError\u001b[0m                         Traceback (most recent call last)",
            "\u001b[0;32m<ipython-input-7-04785ca51605>\u001b[0m in \u001b[0;36m<cell line: 1>\u001b[0;34m()\u001b[0m\n\u001b[0;32m----> 1\u001b[0;31m \u001b[0;32mwith\u001b[0m \u001b[0mopen\u001b[0m\u001b[0;34m(\u001b[0m\u001b[0;34m\"source.txt\"\u001b[0m\u001b[0;34m,\u001b[0m \u001b[0;34m\"r\"\u001b[0m\u001b[0;34m)\u001b[0m \u001b[0;32mas\u001b[0m \u001b[0msource_file\u001b[0m\u001b[0;34m,\u001b[0m \u001b[0mopen\u001b[0m\u001b[0;34m(\u001b[0m\u001b[0;34m\"destination.txt\"\u001b[0m\u001b[0;34m,\u001b[0m \u001b[0;34m\"w\"\u001b[0m\u001b[0;34m)\u001b[0m \u001b[0;32mas\u001b[0m \u001b[0mdest_file\u001b[0m\u001b[0;34m:\u001b[0m\u001b[0;34m\u001b[0m\u001b[0;34m\u001b[0m\u001b[0m\n\u001b[0m\u001b[1;32m      2\u001b[0m     \u001b[0;32mfor\u001b[0m \u001b[0mline\u001b[0m \u001b[0;32min\u001b[0m \u001b[0msource_file\u001b[0m\u001b[0;34m:\u001b[0m\u001b[0;34m\u001b[0m\u001b[0;34m\u001b[0m\u001b[0m\n\u001b[1;32m      3\u001b[0m         \u001b[0mdest_file\u001b[0m\u001b[0;34m.\u001b[0m\u001b[0mwrite\u001b[0m\u001b[0;34m(\u001b[0m\u001b[0mline\u001b[0m\u001b[0;34m)\u001b[0m\u001b[0;34m\u001b[0m\u001b[0;34m\u001b[0m\u001b[0m\n",
            "\u001b[0;31mFileNotFoundError\u001b[0m: [Errno 2] No such file or directory: 'source.txt'"
          ]
        }
      ]
    },
    {
      "cell_type": "markdown",
      "source": [
        "QUESTION -5"
      ],
      "metadata": {
        "id": "y6pp1JPKEVA3"
      }
    },
    {
      "cell_type": "code",
      "source": [
        "try:\n",
        "    result = 10 / 0\n",
        "except ZeroDivisionError:\n",
        "    print(\"Cannot divide by zero!\")\n"
      ],
      "metadata": {
        "colab": {
          "base_uri": "https://localhost:8080/"
        },
        "id": "pMT2w6jfEZWy",
        "outputId": "44b3ee22-28cc-4ad0-b327-d9d48f3f2066"
      },
      "execution_count": 8,
      "outputs": [
        {
          "output_type": "stream",
          "name": "stdout",
          "text": [
            "Cannot divide by zero!\n"
          ]
        }
      ]
    },
    {
      "cell_type": "markdown",
      "source": [
        "Q-6"
      ],
      "metadata": {
        "id": "mDZvOzl-EmGW"
      }
    },
    {
      "cell_type": "code",
      "source": [
        "import logging\n",
        "logging.basicConfig(filename=\"errors.log\", level=logging.ERROR)\n",
        "try:\n",
        "    result = 10 / 0\n",
        "except ZeroDivisionError as e:\n",
        "    logging.error(f\"Error occurred: {e}\")\n"
      ],
      "metadata": {
        "colab": {
          "base_uri": "https://localhost:8080/"
        },
        "id": "MtjQ0e1QEuga",
        "outputId": "5b98ea8b-9b1e-4bd5-9ac9-9facffc28546"
      },
      "execution_count": 9,
      "outputs": [
        {
          "output_type": "stream",
          "name": "stderr",
          "text": [
            "ERROR:root:Error occurred: division by zero\n"
          ]
        }
      ]
    },
    {
      "cell_type": "markdown",
      "source": [
        "Q-7"
      ],
      "metadata": {
        "id": "kf-EyaweEz9S"
      }
    },
    {
      "cell_type": "code",
      "source": [
        "import logging\n",
        "logging.basicConfig(level=logging.INFO)\n",
        "logging.info(\"This is an info message.\")\n",
        "logging.warning(\"This is a warning message.\")\n",
        "logging.error(\"This is an error message.\")\n"
      ],
      "metadata": {
        "colab": {
          "base_uri": "https://localhost:8080/"
        },
        "id": "H3l6Z_W5E1nD",
        "outputId": "c0d503ca-d320-48d1-e3b6-347a5fcdc115"
      },
      "execution_count": 10,
      "outputs": [
        {
          "output_type": "stream",
          "name": "stderr",
          "text": [
            "WARNING:root:This is a warning message.\n",
            "ERROR:root:This is an error message.\n"
          ]
        }
      ]
    },
    {
      "cell_type": "markdown",
      "source": [
        "Q-8"
      ],
      "metadata": {
        "id": "302-c9xkE_MX"
      }
    },
    {
      "cell_type": "code",
      "source": [
        "try:\n",
        "    with open(\"example.txt\", \"r\") as file:\n",
        "        print(file.read())\n",
        "except FileNotFoundError:\n",
        "    print(\"Error: File not found.\")\n"
      ],
      "metadata": {
        "colab": {
          "base_uri": "https://localhost:8080/"
        },
        "id": "HDIuf4DDFAjV",
        "outputId": "b8578021-354f-479b-c851-608a923e34e8"
      },
      "execution_count": 11,
      "outputs": [
        {
          "output_type": "stream",
          "name": "stdout",
          "text": [
            "Hello, world!\n"
          ]
        }
      ]
    },
    {
      "cell_type": "markdown",
      "source": [
        "Q-9"
      ],
      "metadata": {
        "id": "qGC0SyWLFFF9"
      }
    },
    {
      "cell_type": "code",
      "source": [
        "with open(\"example.txt\", \"r\") as file:\n",
        "    lines = [line.strip() for line in file]\n",
        "print(lines)\n"
      ],
      "metadata": {
        "colab": {
          "base_uri": "https://localhost:8080/"
        },
        "id": "hFXjzbNLFIk3",
        "outputId": "5224727d-7975-4eab-9e69-171ade075269"
      },
      "execution_count": 12,
      "outputs": [
        {
          "output_type": "stream",
          "name": "stdout",
          "text": [
            "['Hello, world!']\n"
          ]
        }
      ]
    },
    {
      "cell_type": "markdown",
      "source": [
        "Q-10"
      ],
      "metadata": {
        "id": "_mT8btfUFOX_"
      }
    },
    {
      "cell_type": "code",
      "source": [
        "with open(\"example.txt\", \"a\") as file:\n",
        "    file.write(\"\\nAppended text.\")\n"
      ],
      "metadata": {
        "id": "XBoO877zFRKX"
      },
      "execution_count": 13,
      "outputs": []
    },
    {
      "cell_type": "markdown",
      "source": [
        "Q-11"
      ],
      "metadata": {
        "id": "bHSKCwouFZyc"
      }
    },
    {
      "cell_type": "code",
      "source": [
        "my_dict = {\"key\": \"value\"}\n",
        "try:\n",
        "    print(my_dict[\"missing_key\"])\n",
        "except KeyError:\n",
        "    print(\"Key does not exist!\")\n"
      ],
      "metadata": {
        "colab": {
          "base_uri": "https://localhost:8080/"
        },
        "id": "jENecnRgFb_3",
        "outputId": "907c5c1f-94b3-41f4-c57f-1b45a80a62f8"
      },
      "execution_count": 14,
      "outputs": [
        {
          "output_type": "stream",
          "name": "stdout",
          "text": [
            "Key does not exist!\n"
          ]
        }
      ]
    },
    {
      "cell_type": "markdown",
      "source": [
        "Q-12"
      ],
      "metadata": {
        "id": "LhFZz2nHFh3o"
      }
    },
    {
      "cell_type": "code",
      "source": [
        "try:\n",
        "    result = 10 / 0\n",
        "except ZeroDivisionError:\n",
        "    print(\"Division by zero error!\")\n",
        "except KeyError:\n",
        "    print(\"Key error!\")\n"
      ],
      "metadata": {
        "colab": {
          "base_uri": "https://localhost:8080/"
        },
        "id": "TnhpeT6GFkvf",
        "outputId": "f7a826ea-4b3f-47b5-82b3-bf4f5edf8c37"
      },
      "execution_count": 15,
      "outputs": [
        {
          "output_type": "stream",
          "name": "stdout",
          "text": [
            "Division by zero error!\n"
          ]
        }
      ]
    },
    {
      "cell_type": "markdown",
      "source": [
        "Q-13"
      ],
      "metadata": {
        "id": "wtrjEUbtGO1A"
      }
    },
    {
      "cell_type": "code",
      "source": [
        "import os\n",
        "if os.path.exists(\"example.txt\"):\n",
        "    with open(\"example.txt\", \"r\") as file:\n",
        "        print(file.read())\n",
        "else:\n",
        "    print(\"File does not exist.\")\n"
      ],
      "metadata": {
        "colab": {
          "base_uri": "https://localhost:8080/"
        },
        "id": "inwyvDaHGQRu",
        "outputId": "249ffd9c-fb49-4cde-d184-a009dae3be3c"
      },
      "execution_count": 16,
      "outputs": [
        {
          "output_type": "stream",
          "name": "stdout",
          "text": [
            "Hello, world!\n",
            "Appended text.\n"
          ]
        }
      ]
    },
    {
      "cell_type": "markdown",
      "source": [
        "Q-14"
      ],
      "metadata": {
        "id": "7jjo9kQFGZQL"
      }
    },
    {
      "cell_type": "code",
      "source": [
        "import logging\n",
        "logging.basicConfig(filename=\"app.log\", level=logging.DEBUG)\n",
        "logging.info(\"This is an informational message.\")\n",
        "logging.error(\"This is an error message.\")\n"
      ],
      "metadata": {
        "colab": {
          "base_uri": "https://localhost:8080/"
        },
        "id": "ccWf6NcLGiot",
        "outputId": "ee1c4208-7cf5-4da8-fa69-284e2384c260"
      },
      "execution_count": 17,
      "outputs": [
        {
          "output_type": "stream",
          "name": "stderr",
          "text": [
            "ERROR:root:This is an error message.\n"
          ]
        }
      ]
    },
    {
      "cell_type": "markdown",
      "source": [
        "Q-15"
      ],
      "metadata": {
        "id": "JmAhGXVoLAOP"
      }
    },
    {
      "cell_type": "code",
      "source": [
        "try:\n",
        "    with open(\"empty.txt\", \"r\") as file:\n",
        "        content = file.read().strip()\n",
        "        if not content:\n",
        "            print(\"File is empty.\")\n",
        "        else:\n",
        "            print(content)\n",
        "except FileNotFoundError:\n",
        "    print(\"File does not exist.\")\n"
      ],
      "metadata": {
        "colab": {
          "base_uri": "https://localhost:8080/"
        },
        "id": "cSj_6iTaLCfX",
        "outputId": "415175ae-57e2-4667-b0ba-6055aee12ed4"
      },
      "execution_count": 18,
      "outputs": [
        {
          "output_type": "stream",
          "name": "stdout",
          "text": [
            "File does not exist.\n"
          ]
        }
      ]
    },
    {
      "cell_type": "markdown",
      "source": [
        "Q-16"
      ],
      "metadata": {
        "id": "9JNg2CdeLIb0"
      }
    },
    {
      "cell_type": "code",
      "source": [
        "from memory_profiler import profile\n",
        "\n",
        "@profile\n",
        "def my_function():\n",
        "    lst = [i for i in range(100000)]\n",
        "    return sum(lst)\n",
        "\n",
        "my_function()\n"
      ],
      "metadata": {
        "colab": {
          "base_uri": "https://localhost:8080/",
          "height": 383
        },
        "id": "l5sp8q80LKBP",
        "outputId": "127c5633-2ebb-43b9-9a47-bf284c7d71b7"
      },
      "execution_count": 19,
      "outputs": [
        {
          "output_type": "error",
          "ename": "ModuleNotFoundError",
          "evalue": "No module named 'memory_profiler'",
          "traceback": [
            "\u001b[0;31m---------------------------------------------------------------------------\u001b[0m",
            "\u001b[0;31mModuleNotFoundError\u001b[0m                       Traceback (most recent call last)",
            "\u001b[0;32m<ipython-input-19-e894cca61aad>\u001b[0m in \u001b[0;36m<cell line: 1>\u001b[0;34m()\u001b[0m\n\u001b[0;32m----> 1\u001b[0;31m \u001b[0;32mfrom\u001b[0m \u001b[0mmemory_profiler\u001b[0m \u001b[0;32mimport\u001b[0m \u001b[0mprofile\u001b[0m\u001b[0;34m\u001b[0m\u001b[0;34m\u001b[0m\u001b[0m\n\u001b[0m\u001b[1;32m      2\u001b[0m \u001b[0;34m\u001b[0m\u001b[0m\n\u001b[1;32m      3\u001b[0m \u001b[0;34m@\u001b[0m\u001b[0mprofile\u001b[0m\u001b[0;34m\u001b[0m\u001b[0;34m\u001b[0m\u001b[0m\n\u001b[1;32m      4\u001b[0m \u001b[0;32mdef\u001b[0m \u001b[0mmy_function\u001b[0m\u001b[0;34m(\u001b[0m\u001b[0;34m)\u001b[0m\u001b[0;34m:\u001b[0m\u001b[0;34m\u001b[0m\u001b[0;34m\u001b[0m\u001b[0m\n\u001b[1;32m      5\u001b[0m     \u001b[0mlst\u001b[0m \u001b[0;34m=\u001b[0m \u001b[0;34m[\u001b[0m\u001b[0mi\u001b[0m \u001b[0;32mfor\u001b[0m \u001b[0mi\u001b[0m \u001b[0;32min\u001b[0m \u001b[0mrange\u001b[0m\u001b[0;34m(\u001b[0m\u001b[0;36m100000\u001b[0m\u001b[0;34m)\u001b[0m\u001b[0;34m]\u001b[0m\u001b[0;34m\u001b[0m\u001b[0;34m\u001b[0m\u001b[0m\n",
            "\u001b[0;31mModuleNotFoundError\u001b[0m: No module named 'memory_profiler'",
            "",
            "\u001b[0;31m---------------------------------------------------------------------------\u001b[0;32m\nNOTE: If your import is failing due to a missing package, you can\nmanually install dependencies using either !pip or !apt.\n\nTo view examples of installing some common dependencies, click the\n\"Open Examples\" button below.\n\u001b[0;31m---------------------------------------------------------------------------\u001b[0m\n"
          ],
          "errorDetails": {
            "actions": [
              {
                "action": "open_url",
                "actionText": "Open Examples",
                "url": "/notebooks/snippets/importing_libraries.ipynb"
              }
            ]
          }
        }
      ]
    },
    {
      "cell_type": "markdown",
      "source": [
        "Q-17"
      ],
      "metadata": {
        "id": "cbTg_6cLLR2R"
      }
    },
    {
      "cell_type": "code",
      "source": [
        "with open(\"numbers.txt\", \"w\") as file:\n",
        "    for number in range(10):\n",
        "        file.write(f\"{number}\\n\")\n"
      ],
      "metadata": {
        "id": "VVuOBfCKLWIb"
      },
      "execution_count": 20,
      "outputs": []
    },
    {
      "cell_type": "markdown",
      "source": [
        "Q-18"
      ],
      "metadata": {
        "id": "53cdiPZaLfS1"
      }
    },
    {
      "cell_type": "code",
      "source": [
        "from logging.handlers import RotatingFileHandler\n",
        "import logging\n",
        "\n",
        "handler = RotatingFileHandler(\"app.log\", maxBytes=1_000_000, backupCount=3)\n",
        "logger = logging.getLogger()\n",
        "logger.addHandler(handler)\n",
        "logger.setLevel(logging.INFO)\n",
        "\n",
        "logger.info(\"Logging with rotation.\")\n"
      ],
      "metadata": {
        "colab": {
          "base_uri": "https://localhost:8080/"
        },
        "id": "Ejw7eULLLiEL",
        "outputId": "fe5506bd-d5e2-4afe-b55d-98460c075c73"
      },
      "execution_count": 21,
      "outputs": [
        {
          "output_type": "stream",
          "name": "stderr",
          "text": [
            "INFO:root:Logging with rotation.\n"
          ]
        }
      ]
    },
    {
      "cell_type": "markdown",
      "source": [
        "Q-19"
      ],
      "metadata": {
        "id": "QTat3QY-Lqrw"
      }
    },
    {
      "cell_type": "code",
      "source": [
        "try:\n",
        "    lst = [1, 2]\n",
        "    print(lst[3])\n",
        "    my_dict = {\"key\": \"value\"}\n",
        "    print(my_dict[\"missing_key\"])\n",
        "except IndexError:\n",
        "    print(\"Index error occurred.\")\n",
        "except KeyError:\n",
        "    print(\"Key error occurred.\")\n"
      ],
      "metadata": {
        "colab": {
          "base_uri": "https://localhost:8080/"
        },
        "id": "naVs-D3TLs7h",
        "outputId": "8af5672e-9178-4679-d2e2-2ed33af27115"
      },
      "execution_count": 22,
      "outputs": [
        {
          "output_type": "stream",
          "name": "stdout",
          "text": [
            "Index error occurred.\n"
          ]
        }
      ]
    },
    {
      "cell_type": "markdown",
      "source": [
        "Q-20"
      ],
      "metadata": {
        "id": "xKeVNvz3Lyd7"
      }
    },
    {
      "cell_type": "code",
      "source": [
        "with open(\"example.txt\", \"r\") as file:\n",
        "    content = file.read()\n",
        "print(content)\n"
      ],
      "metadata": {
        "colab": {
          "base_uri": "https://localhost:8080/"
        },
        "id": "nD8DT3vLL3rR",
        "outputId": "9c793f27-105c-4898-d17f-5982a81c6ff3"
      },
      "execution_count": 23,
      "outputs": [
        {
          "output_type": "stream",
          "name": "stdout",
          "text": [
            "Hello, world!\n",
            "Appended text.\n"
          ]
        }
      ]
    },
    {
      "cell_type": "markdown",
      "source": [
        "Q-21"
      ],
      "metadata": {
        "id": "7vf77u_qL9Q0"
      }
    },
    {
      "cell_type": "code",
      "source": [
        "word_to_count = \"example\"\n",
        "with open(\"example.txt\", \"r\") as file:\n",
        "    content = file.read()\n",
        "count = content.count(word_to_count)\n",
        "print(f\"The word '{word_to_count}' occurs {count} times.\")\n"
      ],
      "metadata": {
        "colab": {
          "base_uri": "https://localhost:8080/"
        },
        "id": "J7YtB3rRL_Mx",
        "outputId": "5cbc04f6-f2e3-4b04-ab52-38f24099e23e"
      },
      "execution_count": 24,
      "outputs": [
        {
          "output_type": "stream",
          "name": "stdout",
          "text": [
            "The word 'example' occurs 0 times.\n"
          ]
        }
      ]
    },
    {
      "cell_type": "markdown",
      "source": [
        "Q-22"
      ],
      "metadata": {
        "id": "1tqrlOxCMGo1"
      }
    },
    {
      "cell_type": "code",
      "source": [
        "import os\n",
        "if os.path.exists(\"example.txt\") and os.path.getsize(\"example.txt\") > 0:\n",
        "    with open(\"example.txt\", \"r\") as file:\n",
        "        print(file.read())\n",
        "else:\n",
        "    print(\"File is empty or does not exist.\")\n"
      ],
      "metadata": {
        "colab": {
          "base_uri": "https://localhost:8080/"
        },
        "id": "oji-3-10MI7-",
        "outputId": "a09d673f-09c8-4f7e-fda1-362b4eeacf3c"
      },
      "execution_count": 25,
      "outputs": [
        {
          "output_type": "stream",
          "name": "stdout",
          "text": [
            "Hello, world!\n",
            "Appended text.\n"
          ]
        }
      ]
    },
    {
      "cell_type": "markdown",
      "source": [
        "Q-23"
      ],
      "metadata": {
        "id": "1Ah77j2-MLoG"
      }
    },
    {
      "cell_type": "code",
      "source": [
        "import logging\n",
        "logging.basicConfig(filename=\"file_errors.log\", level=logging.ERROR)\n",
        "try:\n",
        "    with open(\"missing_file.txt\", \"r\") as file:\n",
        "        print(file.read())\n",
        "except FileNotFoundError as e:\n",
        "    logging.error(f\"Error: {e}\")\n"
      ],
      "metadata": {
        "colab": {
          "base_uri": "https://localhost:8080/"
        },
        "id": "OCOM6HsVMNDg",
        "outputId": "b34e7609-611c-4b9b-fd37-095fca151b4b"
      },
      "execution_count": 26,
      "outputs": [
        {
          "output_type": "stream",
          "name": "stderr",
          "text": [
            "ERROR:root:Error: [Errno 2] No such file or directory: 'missing_file.txt'\n"
          ]
        }
      ]
    }
  ]
}